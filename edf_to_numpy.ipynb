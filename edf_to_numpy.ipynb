{
 "cells": [
  {
   "cell_type": "code",
   "execution_count": null,
   "id": "815ae04c-80f9-4410-b7fc-fad132ed6825",
   "metadata": {},
   "outputs": [],
   "source": [
    "path = \"1_marked.edf\""
   ]
  },
  {
   "cell_type": "code",
   "execution_count": null,
   "id": "cbbbd7c6-154b-4cb8-88bd-fc4f6634271c",
   "metadata": {},
   "outputs": [],
   "source": [
    "import numpy as np\n",
    "import matplotlib.pyplot as plt\n",
    "import pyedflib\n",
    "import locale, pprint, time, calendar\n",
    "import torch\n",
    "import torch.nn as nn\n",
    "import torch.nn.functional as F"
   ]
  },
  {
   "cell_type": "markdown",
   "id": "35c686ae-118c-4f50-bc9a-f294d0048a38",
   "metadata": {},
   "source": [
    "читаем edf, число каналов, названия каналов, частоту дискретизации, метки"
   ]
  },
  {
   "cell_type": "code",
   "execution_count": null,
   "id": "27a2326f-5f76-44c7-a94e-87a0e25a2871",
   "metadata": {},
   "outputs": [],
   "source": [
    "import pyedflib\n",
    "edf_file_path = path\n",
    "edf_file = pyedflib.EdfReader(edf_file_path)\n",
    "\n",
    "\n",
    "num_channels = edf_file.signals_in_file\n",
    "channel_labels = edf_file.getSignalLabels()\n",
    "sample_rate = edf_file.getSampleFrequency(0)\n",
    "\n",
    "n_annotations = edf_file.annotations_in_file\n",
    "annotations=[]\n",
    "epi={}\n",
    "for i in range(num_channels):\n",
    "    epi[channel_labels[i]] = edf_file.readSignal(i)\n",
    "    \n",
    "annotation = edf_file.read_annotation()\n",
    "edf_file.close()"
   ]
  },
  {
   "cell_type": "code",
   "execution_count": null,
   "id": "a0137998-0f3e-41f1-82de-2b24bbff5c59",
   "metadata": {},
   "outputs": [],
   "source": [
    "sample_rate"
   ]
  },
  {
   "cell_type": "code",
   "execution_count": null,
   "id": "205c8a06-9c61-48ed-8448-e8ac9da6ffbd",
   "metadata": {},
   "outputs": [],
   "source": [
    "num_channels"
   ]
  },
  {
   "cell_type": "markdown",
   "id": "710e7430-5d04-4b9c-9448-be4d5739cc1f",
   "metadata": {},
   "source": [
    "чтобы обозначить границы размеченной записи, указываем начало и конец в формате 'hh:mm:ss', получаем начало и конец в отсчётах с учетом частоты дискретизации"
   ]
  },
  {
   "cell_type": "code",
   "execution_count": null,
   "id": "f98d8c20-e074-4396-9dd8-7a1f55554fad",
   "metadata": {},
   "outputs": [],
   "source": [
    "def get_sec(time):\n",
    "    h, m, s = time.split(':')\n",
    "    return int(h)*3600+int(m)*60+int(s)"
   ]
  },
  {
   "cell_type": "code",
   "execution_count": null,
   "id": "55bd70ff-d91d-4e63-8ecc-bb0a29e1fefd",
   "metadata": {},
   "outputs": [],
   "source": [
    "int(get_sec('0:00:00')*sample_rate)"
   ]
  },
  {
   "cell_type": "code",
   "execution_count": null,
   "id": "30651d78-4265-46fe-8f02-7da21d85ed1a",
   "metadata": {},
   "outputs": [],
   "source": [
    "fig, axs = plt.subplots(23, 1, figsize=(30,40), dpi=400)\n",
    "keys_epi=list(epi.keys())\n",
    "example=[]\n",
    "start = int(get_sec('0:00:00')*sample_rate)\n",
    "finish = int(get_sec('0:16:00')*sample_rate)\n",
    "for i in range(len(keys_epi)):\n",
    "    axs[i].plot(epi[keys_epi[i]][start:finish])\n",
    "    axs[i].set_title(f'{channel_labels[i]}')\n",
    "    example.append(epi[keys_epi[i]][start:finish])"
   ]
  },
  {
   "cell_type": "markdown",
   "id": "2c178b05-59e6-43e5-86f9-67a190877737",
   "metadata": {},
   "source": [
    "Извлечение нужных меток"
   ]
  },
  {
   "cell_type": "code",
   "execution_count": null,
   "id": "4ea88dc9-c7e1-4cdd-9a92-ed0b634421da",
   "metadata": {},
   "outputs": [],
   "source": [
    "len(annotation)"
   ]
  },
  {
   "cell_type": "code",
   "execution_count": null,
   "id": "d5bde86e-f3fe-4f10-baad-dc668ae6ee6f",
   "metadata": {},
   "outputs": [],
   "source": [
    "annotation"
   ]
  },
  {
   "cell_type": "markdown",
   "id": "8ca345c3-5696-48a7-839b-b680a1587712",
   "metadata": {},
   "source": [
    "формат записи - начало в отсчётах и длительность в секундах"
   ]
  },
  {
   "cell_type": "code",
   "execution_count": null,
   "id": "e7c3e880-5dab-4c06-9de8-62e428e8b9af",
   "metadata": {},
   "outputs": [],
   "source": [
    "doc_annot = [[(x[0]//10000000)*int(sample_rate) + (x[0]%10000000)//20000 - start, float(x[1])] for x in annotation if ('F7' in str(x[2]) and x[1]!=b'' and ('EEG' not in str(x[2])))]"
   ]
  },
  {
   "cell_type": "code",
   "execution_count": null,
   "id": "3110ab7e-5a22-4548-8a24-e25d69426f82",
   "metadata": {
    "scrolled": true
   },
   "outputs": [],
   "source": [
    "doc_annot"
   ]
  },
  {
   "cell_type": "code",
   "execution_count": null,
   "id": "f5896072-4f4e-4863-bb5b-2e969624ec1f",
   "metadata": {},
   "outputs": [],
   "source": [
    "signal = example[10] #F7 channel"
   ]
  },
  {
   "cell_type": "code",
   "execution_count": null,
   "id": "9726a047-2540-47b4-882d-9aae59ac6d83",
   "metadata": {
    "scrolled": true
   },
   "outputs": [],
   "source": [
    "doc_annot"
   ]
  },
  {
   "cell_type": "markdown",
   "id": "1e87e6f0-255f-4278-939d-981469a7e4b8",
   "metadata": {},
   "source": [
    "приведение к маске"
   ]
  },
  {
   "cell_type": "code",
   "execution_count": null,
   "id": "5079646f-a4bf-4547-9149-730e6019a80b",
   "metadata": {},
   "outputs": [],
   "source": [
    "doc_delin = [[int(delin[0]), int(delin[0]+int(delin[1]*sample_rate))] for delin in doc_annot ]"
   ]
  },
  {
   "cell_type": "code",
   "execution_count": null,
   "id": "85d5d405-49eb-42cc-8b46-bc851db8c7c2",
   "metadata": {},
   "outputs": [],
   "source": [
    "delineation = np.zeros(finish-start)\n",
    "for label in doc_delin:\n",
    "    print(label)\n",
    "    for tick in range(label[0], label[1]+1):\n",
    "        delineation[tick]=1"
   ]
  },
  {
   "cell_type": "code",
   "execution_count": null,
   "id": "7d200ad7-af8a-411f-9729-b9e55bc564b2",
   "metadata": {},
   "outputs": [],
   "source": [
    "len(delineation)"
   ]
  },
  {
   "cell_type": "code",
   "execution_count": null,
   "id": "a56dab45-c2a9-4a00-ab03-1a342c3f3462",
   "metadata": {},
   "outputs": [],
   "source": [
    "delineation[4600:4680]"
   ]
  },
  {
   "cell_type": "code",
   "execution_count": null,
   "id": "5e574db2-4c9d-45c4-a45f-c981ebb237fc",
   "metadata": {},
   "outputs": [],
   "source": [
    "X=[]\n",
    "Y=[]\n",
    "for i in range((finish-start)//5000):\n",
    "    X.append(signal[5000*i:5000*i+5000])\n",
    "    Y.append(delineation[5000*i:5000*i+5000])"
   ]
  },
  {
   "cell_type": "code",
   "execution_count": null,
   "id": "abb4a0b6-61be-4433-ad46-9372912b1183",
   "metadata": {},
   "outputs": [],
   "source": [
    "i=-6\n",
    "plt.figure(figsize=(15, 6), dpi=400)\n",
    "plt.plot(X[i])\n",
    "plt.plot(Y[i]*150)"
   ]
  },
  {
   "cell_type": "code",
   "execution_count": null,
   "id": "276e8bdf-1d61-48f2-a65d-8dd0046cd3da",
   "metadata": {},
   "outputs": [],
   "source": [
    "X_notempty=[]\n",
    "Y_notempty=[]\n",
    "for i in range(len(X)):\n",
    "    if max(Y[i]) == 1:\n",
    "        X_notempty.append(X[i])\n",
    "        Y_notempty.append(Y[i])"
   ]
  },
  {
   "cell_type": "code",
   "execution_count": null,
   "id": "3887d3f2-6347-4123-bed3-a215263090f0",
   "metadata": {},
   "outputs": [],
   "source": [
    "len(Y_notempty)"
   ]
  },
  {
   "cell_type": "code",
   "execution_count": null,
   "id": "ab152943-9701-4fec-955a-4644c0775ef1",
   "metadata": {},
   "outputs": [],
   "source": [
    "# for i in range(len(X_notempty)):\n",
    "#     plt.figure(figsize=(15,10))\n",
    "#     plt.plot(X_notempty[i])\n",
    "#     plt.plot(Y_notempty[i]*150)\n",
    "#     plt.show()"
   ]
  },
  {
   "cell_type": "code",
   "execution_count": null,
   "id": "721dc0cd-da1b-464c-9106-346a42948067",
   "metadata": {},
   "outputs": [],
   "source": [
    "np.save('1X.npy', X_notempty)\n",
    "np.save('1Y.npy', Y_notempty)"
   ]
  },
  {
   "cell_type": "code",
   "execution_count": null,
   "id": "a6ac63a7-30c6-43c7-bdc1-44c1e50fe0bd",
   "metadata": {},
   "outputs": [],
   "source": []
  },
  {
   "cell_type": "code",
   "execution_count": null,
   "id": "322daf26-8a97-4f9e-82ef-6644d9b44566",
   "metadata": {},
   "outputs": [],
   "source": []
  }
 ],
 "metadata": {
  "kernelspec": {
   "display_name": "Python 3 (ipykernel)",
   "language": "python",
   "name": "python3"
  },
  "language_info": {
   "codemirror_mode": {
    "name": "ipython",
    "version": 3
   },
   "file_extension": ".py",
   "mimetype": "text/x-python",
   "name": "python",
   "nbconvert_exporter": "python",
   "pygments_lexer": "ipython3",
   "version": "3.10.11"
  }
 },
 "nbformat": 4,
 "nbformat_minor": 5
}
