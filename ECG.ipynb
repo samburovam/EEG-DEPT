{
 "cells": [
  {
   "cell_type": "code",
   "execution_count": null,
   "metadata": {},
   "outputs": [],
   "source": [
    "COLAB = False\n",
    "#COLAB = True"
   ]
  },
  {
   "cell_type": "code",
   "execution_count": null,
   "metadata": {},
   "outputs": [],
   "source": [
    "import mne\n",
    "import matplotlib.pyplot as plt\n",
    "import numpy as np\n",
    "from scipy.signal import butter, filtfilt\n",
    "from sklearn.model_selection import train_test_split\n",
    "import torch\n",
    "from torch.utils.data import Dataset, DataLoader\n",
    "import torch.nn as nn\n",
    "from IPython.display import clear_output"
   ]
  },
  {
   "cell_type": "code",
   "execution_count": null,
   "metadata": {},
   "outputs": [],
   "source": [
    "path=\"labeled_10mins_checkedSHA.edf\""
   ]
  },
  {
   "cell_type": "code",
   "execution_count": null,
   "metadata": {},
   "outputs": [],
   "source": [
    "file = mne.io.read_raw_edf(path)"
   ]
  },
  {
   "cell_type": "code",
   "execution_count": null,
   "metadata": {},
   "outputs": [],
   "source": [
    "raw_data = file.get_data()"
   ]
  },
  {
   "cell_type": "code",
   "execution_count": null,
   "metadata": {},
   "outputs": [],
   "source": [
    "file"
   ]
  },
  {
   "cell_type": "code",
   "execution_count": null,
   "metadata": {},
   "outputs": [],
   "source": [
    "plt.figure(figsize=(18, 5))\n",
    "plt.plot(raw_data[2][1800000:1810000])"
   ]
  },
  {
   "cell_type": "code",
   "execution_count": null,
   "metadata": {},
   "outputs": [],
   "source": [
    "def broad_filter(signal, fs, lowcut=0.1, highcut=35):\n",
    "    \"\"\"Returns filtered signal sampled at fs Hz, with a [lowcut, highcut] Hz\n",
    "    bandpass.\"\"\"\n",
    "    # Generate butter bandpass of order 3.\n",
    "    nyq = 0.5 * fs\n",
    "    low = lowcut / nyq\n",
    "    high = highcut / nyq\n",
    "    b, a = butter(3, (low, high), btype='band')\n",
    "    # Apply filter to the signal with zero-phase.\n",
    "    filtered_signal = filtfilt(b, a, signal)\n",
    "    return filtered_signal"
   ]
  },
  {
   "cell_type": "code",
   "execution_count": null,
   "metadata": {},
   "outputs": [],
   "source": [
    "plt.figure(figsize=(18, 5))\n",
    "plt.plot(broad_filter(raw_data[4][1800000:1810000], 256))"
   ]
  },
  {
   "cell_type": "code",
   "execution_count": null,
   "metadata": {},
   "outputs": [],
   "source": [
    "classes = np.load(\"labels.npy\")"
   ]
  },
  {
   "cell_type": "code",
   "execution_count": null,
   "metadata": {},
   "outputs": [],
   "source": [
    "classes"
   ]
  },
  {
   "cell_type": "code",
   "execution_count": null,
   "metadata": {},
   "outputs": [],
   "source": [
    "plt.figure(figsize=(18, 5))\n",
    "plt.plot(classes[0])"
   ]
  },
  {
   "cell_type": "code",
   "execution_count": null,
   "metadata": {},
   "outputs": [],
   "source": [
    "path=\"labeled_10mins_checkedSHA.edf\""
   ]
  },
  {
   "cell_type": "code",
   "execution_count": null,
   "metadata": {},
   "outputs": [],
   "source": []
  },
  {
   "cell_type": "code",
   "execution_count": null,
   "metadata": {},
   "outputs": [],
   "source": [
    "sample_rate = 500\n",
    "signal_size = signals.shape[1]\n",
    "signal_duration = signal_size / sample_rate\n",
    "print(f\"Частота сигнала - {sample_rate} Гц\")\n",
    "print(f\"Продолжительность сигнала - {signal_duration} сек.\")"
   ]
  },
  {
   "cell_type": "code",
   "execution_count": null,
   "metadata": {},
   "outputs": [],
   "source": [
    "# Вспомогательные функции, превращающие маску в сегментацию\n",
    "\n",
    "v_to_del = {1:'p'}\n",
    "\n",
    "def remove_small(signal):\n",
    "    max_dist = 12\n",
    "    last_zero = 0\n",
    "    for i in range(len(signal)):\n",
    "        if signal[i] == 0:\n",
    "            if i - last_zero < max_dist:\n",
    "                signal[last_zero:i] = 0\n",
    "            last_zero = i\n",
    "\n",
    "def merge_small(signal):\n",
    "    max_dist = 12\n",
    "    lasts = np.full(signal.max() + 1, -(max_dist+1))\n",
    "    for i in range(len(signal)):\n",
    "        m = signal[i]\n",
    "        if i - lasts[m] < max_dist and m > 0:\n",
    "            signal[lasts[m]:i] = m\n",
    "        lasts[m] = i\n",
    "\n",
    "def mask_to_delineation(mask):\n",
    "    # merge_small(mask)\n",
    "    # remove_small(mask)\n",
    "    delineation = {'p':[]}\n",
    "    i = 0\n",
    "    mask_length = len(mask)\n",
    "    while i < mask_length:\n",
    "        v = mask[i]\n",
    "        if v > 0:\n",
    "            delineation[v_to_del[v]].append([i, 0])\n",
    "            while i < mask_length and mask[i] == v:\n",
    "                delineation[v_to_del[v]][-1][1] = i\n",
    "                i += 1\n",
    "            t = delineation[v_to_del[v]][-1]\n",
    "        i += 1\n",
    "    return delineation"
   ]
  },
  {
   "cell_type": "code",
   "execution_count": null,
   "metadata": {},
   "outputs": [],
   "source": [
    "mask_to_delineation(get_mask(signals_test[i]))"
   ]
  },
  {
   "cell_type": "code",
   "execution_count": null,
   "metadata": {},
   "outputs": [],
   "source": [
    "delineation = np.load(\"delineation.npy\")"
   ]
  },
  {
   "cell_type": "code",
   "execution_count": null,
   "metadata": {
    "scrolled": true
   },
   "outputs": [],
   "source": [
    "delineation"
   ]
  },
  {
   "cell_type": "code",
   "execution_count": null,
   "metadata": {},
   "outputs": [],
   "source": [
    "classes = np.zeros(300000)\n",
    "for label in delineation:\n",
    "    for tick in range(label[0], label[1]+1):\n",
    "        classes[tick]=1"
   ]
  },
  {
   "cell_type": "code",
   "execution_count": null,
   "metadata": {},
   "outputs": [],
   "source": [
    "sample_rate=500"
   ]
  },
  {
   "cell_type": "code",
   "execution_count": null,
   "metadata": {},
   "outputs": [],
   "source": [
    "plt.rcParams['axes.linewidth'] = 5\n",
    "plt.rcParams['xtick.major.width'] = 5\n",
    "plt.rcParams['ytick.major.width'] = 5\n",
    "plt.rcParams['xtick.major.size'] = 15\n",
    "plt.rcParams['ytick.major.size'] = 15\n",
    "def plot_signal_with_mask(signal, delineation, delineation2, i, k):\n",
    "    fig, axs = plt.subplots(figsize=(18, 5), dpi=300)\n",
    "    axs.spines[['right', 'top']].set_visible(False)\n",
    "    #plt.title(\"Signal with mask\")\n",
    "    axs.xaxis.set_tick_params(labelsize=25)\n",
    "    axs.yaxis.set_tick_params(labelsize=25)\n",
    "    #plt.title(\"Signal with mask\")\n",
    "    plt.xlabel(\"Time (sec)\", fontsize=25)\n",
    "    plt.ylabel(\"Amplitude (μV)\", fontsize=25)\n",
    "    x_axis_values = np.linspace(0, len(signal) / sample_rate, len(signal))\n",
    "    plt.plot(x_axis_values, signal, linewidth=4, color=\"black\")\n",
    "    \n",
    "    # for begin, end in delineation['p']:\n",
    "    #     begin /= sample_rate\n",
    "    #     end /= sample_rate\n",
    "    #     plt.axvspan(begin, end, facecolor='red', alpha=0.5)\n",
    "\n",
    "    for begin, end in delineation2['p']:\n",
    "        begin /= sample_rate\n",
    "        end /= sample_rate\n",
    "        plt.axvspan(begin, end, facecolor='green', alpha=0.5)\n",
    "    plt.savefig(f\"{i}_{k}_dert_nn_only.png\", bbox_inches='tight')\n",
    "\n",
    "    fig, axs = plt.subplots(figsize=(18, 5), dpi=300)\n",
    "    axs.spines[['right', 'top']].set_visible(False)\n",
    "    #plt.title(\"Signal with mask\")\n",
    "    axs.xaxis.set_tick_params(labelsize=25)\n",
    "    axs.yaxis.set_tick_params(labelsize=25)\n",
    "        #plt.title(\"Signal with mask\")\n",
    "    plt.xlabel(\"Time (sec)\", fontsize=25)\n",
    "    plt.ylabel(\"Amplitude (μV)\", fontsize=25)\n",
    "    x_axis_values = np.linspace(0, len(signal) / sample_rate, len(signal))\n",
    "    plt.plot(x_axis_values, signal, linewidth=4, color=\"black\")\n",
    "    \n",
    "    for begin, end in delineation['p']:\n",
    "        begin /= sample_rate\n",
    "        end /= sample_rate\n",
    "        plt.axvspan(begin, end, facecolor='red', alpha=0.5)\n",
    "\n",
    "    for begin, end in delineation2['p']:\n",
    "        begin /= sample_rate\n",
    "        end /= sample_rate\n",
    "        plt.axvspan(begin, end, facecolor='green', alpha=0.5)\n",
    "    plt.savefig(f\"{i}_{k}_dert_nn_and_doc.png\", bbox_inches='tight')\n",
    "\n",
    "    fig, axs = plt.subplots(figsize=(18, 5), dpi=300)\n",
    "    axs.spines[['right', 'top']].set_visible(False)\n",
    "    #plt.title(\"Signal with mask\")\n",
    "    axs.xaxis.set_tick_params(labelsize=25)\n",
    "    axs.yaxis.set_tick_params(labelsize=25)\n",
    "    plt.xlabel(\"Time (sec)\", fontsize=25)\n",
    "    plt.ylabel(\"Amplitude (μV)\", fontsize=25)\n",
    "    x_axis_values = np.linspace(0, len(signal) / sample_rate, len(signal))\n",
    "    plt.plot(x_axis_values, signal, linewidth=4, color=\"black\")\n",
    "    \n",
    "    for begin, end in delineation['p']:\n",
    "        begin /= sample_rate\n",
    "        end /= sample_rate\n",
    "        plt.axvspan(begin, end, facecolor='red', alpha=0.5)\n",
    "\n",
    "    # for begin, end in delineation2['p']:\n",
    "    #     begin /= sample_rate\n",
    "    #     end /= sample_rate\n",
    "    #     plt.axvspan(begin, end, facecolor='green', alpha=0.5)\n",
    "    plt.savefig(f\"{i}_{k}_dert_doc_only.png\", bbox_inches='tight')"
   ]
  },
  {
   "cell_type": "code",
   "execution_count": null,
   "metadata": {},
   "outputs": [],
   "source": [
    "plot_signal_with_mask(X_new[0], delineation[:9], 10, 1, 1)"
   ]
  },
  {
   "cell_type": "code",
   "execution_count": null,
   "metadata": {},
   "outputs": [],
   "source": [
    "labels = np.load(\"labels.npy\")"
   ]
  },
  {
   "cell_type": "code",
   "execution_count": null,
   "metadata": {},
   "outputs": [],
   "source": [
    "labels[0]\n"
   ]
  },
  {
   "cell_type": "code",
   "execution_count": null,
   "metadata": {},
   "outputs": [],
   "source": [
    "all_signals = raw_data[2][1800000:2100000]"
   ]
  },
  {
   "cell_type": "code",
   "execution_count": null,
   "metadata": {},
   "outputs": [],
   "source": [
    "X=[]\n",
    "Y=[]\n",
    "for i in range(60):\n",
    "    X.append(all_signals[5000*i:5000*i+5000])\n",
    "    Y.append(classes[5000*i:5000*i+5000])"
   ]
  },
  {
   "cell_type": "code",
   "execution_count": null,
   "metadata": {},
   "outputs": [],
   "source": []
  },
  {
   "cell_type": "code",
   "execution_count": null,
   "metadata": {},
   "outputs": [],
   "source": [
    "X_new = np.load(\"X_new.npy\")\n",
    "Y_new = np.load(\"Y_new.npy\")"
   ]
  },
  {
   "cell_type": "code",
   "execution_count": null,
   "metadata": {},
   "outputs": [],
   "source": [
    "X_new_2 = np.load(\"X_new_2.npy\")\n",
    "Y_new_2 = np.load(\"Y_new_2.npy\")"
   ]
  },
  {
   "cell_type": "code",
   "execution_count": null,
   "metadata": {},
   "outputs": [],
   "source": [
    "X_new_3 = np.load(\"X_new_3.npy\")\n",
    "Y_new_3 = np.load(\"Y_new_3.npy\")"
   ]
  },
  {
   "cell_type": "code",
   "execution_count": null,
   "metadata": {},
   "outputs": [],
   "source": [
    "X_new_5 = np.load(\"1X.npy\")\n",
    "Y_new_5 = np.load(\"1Y.npy\")"
   ]
  },
  {
   "cell_type": "code",
   "execution_count": null,
   "metadata": {},
   "outputs": [],
   "source": [
    "X_new_6 = np.load(\"2X.npy\")\n",
    "Y_new_6 = np.load(\"2Y.npy\")"
   ]
  },
  {
   "cell_type": "code",
   "execution_count": null,
   "metadata": {},
   "outputs": [],
   "source": [
    "X = [X_new, X_new_2, X_new_3, X_new_5, X_new_6]\n",
    "Y = [Y_new, Y_new_2, Y_new_3, Y_new_5, Y_new_6]\n",
    "def get_cross_val(num):\n",
    "    X_train=[]\n",
    "    Y_train=[]\n",
    "    X_test=[]\n",
    "    Y_test=[]\n",
    "    cnt=0\n",
    "    for i in range(len(X)):\n",
    "        if num==i:\n",
    "            for k in range(len(X[i])):\n",
    "                if max(Y[i][k])!=0.:\n",
    "                    X_test.append(X[i][k])\n",
    "                    Y_test.append(Y[i][k])\n",
    "        else:\n",
    "            for j in range(len(X[i])):\n",
    "                if max(Y[i][j])!=0.:\n",
    "                    cnt+=1\n",
    "                    X_train.append(X[i][j])\n",
    "                    Y_train.append(Y[i][j])\n",
    "    print(cnt)\n",
    "    return X_train, X_test, Y_train, Y_test"
   ]
  },
  {
   "cell_type": "code",
   "execution_count": null,
   "metadata": {},
   "outputs": [],
   "source": [
    "plt.figure(figsize=(18, 5))\n",
    "plt.plot(X_new_2[0])"
   ]
  },
  {
   "cell_type": "code",
   "execution_count": null,
   "metadata": {},
   "outputs": [],
   "source": [
    "mask_to_delineation(Y[0])"
   ]
  },
  {
   "cell_type": "code",
   "execution_count": null,
   "metadata": {},
   "outputs": [],
   "source": [
    "plot_signal_with_mask(X_new_2[31], mask_to_delineation(Y_new_2[31]))"
   ]
  },
  {
   "cell_type": "code",
   "execution_count": null,
   "metadata": {},
   "outputs": [],
   "source": [
    "plt.figure(figsize=(18, 5))\n",
    "plt.plot(Y[0])"
   ]
  },
  {
   "cell_type": "code",
   "execution_count": null,
   "metadata": {},
   "outputs": [],
   "source": [
    "np.save(\"data.npy\", X)\n",
    "np.save(\"labels.npy\", Y)"
   ]
  },
  {
   "cell_type": "code",
   "execution_count": null,
   "metadata": {},
   "outputs": [],
   "source": [
    "for i in range(len(X_new)):\n",
    "    X.append(X_new[i])\n",
    "    Y.append(Y_new[i])\n",
    "\n",
    "\n",
    "for i in range(len(X_new_2)):\n",
    "    X.append(X_new_2[i])\n",
    "    Y.append(Y_new_2[i])\n",
    "\n",
    "\n",
    "# for i in range(len(X_new_3)):\n",
    "#     X.append(X_new_3[i])\n",
    "#     Y.append(Y_new_3[i])"
   ]
  },
  {
   "cell_type": "code",
   "execution_count": null,
   "metadata": {},
   "outputs": [],
   "source": [
    "len(X)"
   ]
  },
  {
   "cell_type": "code",
   "execution_count": null,
   "metadata": {},
   "outputs": [],
   "source": [
    "X_train = X\n",
    "Y_train =Y\n",
    "X_test = X_new_3\n",
    "Y_test = Y_new_3"
   ]
  },
  {
   "cell_type": "code",
   "execution_count": null,
   "metadata": {},
   "outputs": [],
   "source": [
    "# signals_train, signals_test, delins_train, delins_test= \\\n",
    "#     train_test_split(X, Y, train_size=0.8, test_size=0.2)\n",
    "# X_train=[]\n",
    "# Y_train=[]\n",
    "# X_test=[]\n",
    "# Y_test=[]\n",
    "for i in range(4):\n",
    "    X_train, X_test, Y_train, Y_test = get_cross_val(i)\n",
    "    for i in range(len(X_train)):\n",
    "        if (max(Y_train[i]) != 0.):\n",
    "            X_train.append(signals_train[i])\n",
    "            Y_train.append(delins_train[i])\n",
    "    \n",
    "    for i in range(len(X_test)):\n",
    "        if (max(Y_test[i]) != 0.):\n",
    "            X_test.append(signals_test[i])\n",
    "            Y_test.append(delins_test[i])"
   ]
  },
  {
   "cell_type": "code",
   "execution_count": null,
   "metadata": {},
   "outputs": [],
   "source": [
    "plt.plot(delins_test[12])"
   ]
  },
  {
   "cell_type": "code",
   "execution_count": null,
   "metadata": {},
   "outputs": [],
   "source": [
    "len(Y_test)"
   ]
  },
  {
   "cell_type": "code",
   "execution_count": null,
   "metadata": {
    "scrolled": true
   },
   "outputs": [],
   "source": [
    "for i in range(len(signals_test)):\n",
    "    print(len(signals_test[i]))\n",
    "    print(len(delins_test[i]))"
   ]
  },
  {
   "cell_type": "markdown",
   "metadata": {},
   "source": [
    "### Объявление Dataloader"
   ]
  },
  {
   "cell_type": "code",
   "execution_count": null,
   "metadata": {},
   "outputs": [],
   "source": [
    "class SegmentationDataset(torch.utils.data.Dataset):\n",
    "    def __init__(self, signals, masks):\n",
    "        self._signals = torch.FloatTensor(np.expand_dims(signals, axis=1))\n",
    "        self._masks = torch.LongTensor(masks)\n",
    "        self._sub_len = 4000\n",
    "\n",
    "    def __len__(self):\n",
    "        return len(self._signals)\n",
    "\n",
    "    def __getitem__(self, i):\n",
    "        shift = np.random.randint(0, 1000)\n",
    "        return self._signals[i, :, shift:shift+self._sub_len].clone().detach(), \\\n",
    "            self._masks[i, shift:shift+self._sub_len].clone().detach()"
   ]
  },
  {
   "cell_type": "code",
   "execution_count": null,
   "metadata": {},
   "outputs": [],
   "source": [
    "torch.LongTensor(delins_train)[0]"
   ]
  },
  {
   "cell_type": "code",
   "execution_count": null,
   "metadata": {},
   "outputs": [],
   "source": [
    "def get_loader(signals, masks, batch_size=4):\n",
    "    dataset = SegmentationDataset(signals, masks)\n",
    "    return DataLoader(dataset, batch_size=batch_size)"
   ]
  },
  {
   "cell_type": "code",
   "execution_count": null,
   "metadata": {},
   "outputs": [],
   "source": [
    "train_loader = get_loader(X_train, Y_train)\n",
    "val_loader = get_loader(X_test, Y_test)"
   ]
  },
  {
   "cell_type": "code",
   "execution_count": null,
   "metadata": {},
   "outputs": [],
   "source": [
    "for x, y in train_loader:\n",
    "    print(x)\n",
    "    print(\"sfhesh\")\n",
    "    print(y)\n",
    "    print(\"sghbds\")"
   ]
  },
  {
   "cell_type": "markdown",
   "metadata": {},
   "source": [
    "### Вспомогательные функции"
   ]
  },
  {
   "cell_type": "code",
   "execution_count": null,
   "metadata": {},
   "outputs": [],
   "source": [
    "import torch.nn.functional as F\n",
    "\n",
    "def get_loss(model, X_batch, y_batch):\n",
    "    logits = model(X_batch)\n",
    "    # logits = logits[:, :, 1000:-1000]\n",
    "    # y_batch = y_batch[:, 1000:-1000]\n",
    "    return F.cross_entropy(logits, y_batch).mean()"
   ]
  },
  {
   "cell_type": "code",
   "execution_count": null,
   "metadata": {},
   "outputs": [],
   "source": [
    "class Drawer():\n",
    "    def __init__(self):\n",
    "        self._train = []\n",
    "        self._val = []\n",
    "    \n",
    "    def add(self, train_loss, val_iou):\n",
    "        self._train.append(train_loss)\n",
    "        self._val.append(val_iou)\n",
    "        \n",
    "    def plot(self):\n",
    "        epochs = range(1, 1 + len(self._train))\n",
    "        plt.figure(figsize=(10, 8))\n",
    "        plt.title('train/val loss')\n",
    "        plt.xlabel('Эпоха')\n",
    "        plt.ylabel('Loss')\n",
    "        plt.plot(epochs, self._train)\n",
    "        plt.plot(epochs, self._val)\n",
    "        plt.legend([\"train\", \"val\"])\n",
    "        plt.show()"
   ]
  },
  {
   "cell_type": "code",
   "execution_count": null,
   "metadata": {},
   "outputs": [],
   "source": [
    "import time\n",
    "\n",
    "def fit(model, train_loader, val_loader, optimizer, loss_function, num_epochs=None):\n",
    "    train_losses = []\n",
    "    val_losses = []\n",
    "    drawer = Drawer()\n",
    "    min_loss = 1e6\n",
    "    min_loss_index = 0\n",
    "    epoch = 0\n",
    "    \n",
    "    while num_epochs is None or epoch < num_epochs:\n",
    "        start_time = time.time()\n",
    "        model.train()\n",
    "        for X_batch, y_batch in train_loader:\n",
    "            loss = loss_function(model, X_batch, y_batch)\n",
    "            optimizer.zero_grad()\n",
    "            loss.backward()\n",
    "            optimizer.step()\n",
    "            train_losses.append(loss.data.numpy())\n",
    "\n",
    "        model.eval()\n",
    "        for X_batch, y_batch in val_loader:\n",
    "            loss = get_loss(model, X_batch, y_batch)\n",
    "            val_losses.append(loss.data.numpy())\n",
    "            \n",
    "        train_loss = np.mean(train_losses[-len(train_loader):])\n",
    "        val_loss = np.mean(val_losses[-len(val_loader):])\n",
    "        print(len(train_loader), len(val_loader))\n",
    "        drawer.add(train_loss, val_loss)\n",
    "        \n",
    "        clear_output(True)\n",
    "        drawer.plot()\n",
    "        print(\"Epoch {} took {:.3f}s\".format(epoch + 1, time.time() - start_time))\n",
    "        print(\"training loss: \\t{:.6f}\".format(train_loss))\n",
    "        print(\"validation loss: \\t{:.6f}\".format(val_loss))\n",
    "        \n",
    "        if val_loss < min_loss - 1e-5:\n",
    "            min_loss = val_loss\n",
    "            min_loss_index = epoch\n",
    "        \n",
    "        epoch += 1"
   ]
  },
  {
   "cell_type": "markdown",
   "metadata": {},
   "source": [
    "### Объявление модели"
   ]
  },
  {
   "cell_type": "markdown",
   "metadata": {},
   "source": [
    "![img](https://raw.githubusercontent.com/MoskalenkoViktor/dl_ecg/master/nn_like_unet.png)\n",
    "[ https://arxiv.org/pdf/2001.04689.pdf ]"
   ]
  },
  {
   "cell_type": "markdown",
   "metadata": {},
   "source": [
    "![img](https://raw.githubusercontent.com/MoskalenkoViktor/dl_ecg/master/cnn.jpeg)\n",
    "[ https://cs231n.github.io/convolutional-networks/ ]"
   ]
  },
  {
   "cell_type": "code",
   "execution_count": null,
   "metadata": {},
   "outputs": [],
   "source": [
    "# Один блок свёртки\n",
    "class UNetConv(nn.Module):\n",
    "    def __init__(self, in_channels, out_channels):\n",
    "        super(UNetConv, self).__init__()\n",
    "        self._model = nn.Sequential(\n",
    "            nn.Conv1d(in_channels, out_channels, kernel_size=9, padding=4),\n",
    "            nn.BatchNorm1d(out_channels),\n",
    "            nn.ReLU(),\n",
    "            nn.Conv1d(out_channels, out_channels, kernel_size=9, padding=4),\n",
    "            nn.BatchNorm1d(out_channels),\n",
    "            nn.ReLU()\n",
    "        )\n",
    "    \n",
    "    def forward(self, X):\n",
    "        return self._model(X)\n",
    "    \n",
    "\n",
    "class UNetDown(nn.Module):\n",
    "    def __init__(self, in_channels, out_channels):\n",
    "        super(UNetDown, self).__init__()\n",
    "        self._model = nn.Sequential(\n",
    "            nn.MaxPool1d(2),\n",
    "            UNetConv(in_channels, out_channels)\n",
    "        )\n",
    "    \n",
    "    def forward(self, X):\n",
    "        return self._model(X)\n",
    "    \n",
    "\n",
    "class UNetUp(nn.Module):\n",
    "    def __init__(self, in_channels, in_channels_skip, out_channels):\n",
    "        super(UNetUp, self).__init__()\n",
    "        self._up = nn.ConvTranspose1d(in_channels, in_channels, kernel_size=8, stride=2, padding=3)\n",
    "        self._model = UNetConv(in_channels + in_channels_skip, out_channels)\n",
    "    \n",
    "    def forward(self, X_skip, X):\n",
    "        X = self._up(X)  \n",
    "        diff = X_skip.size()[2] - X.size()[2]\n",
    "        X = F.pad(X, (diff // 2, diff - diff // 2))  \n",
    "        return self._model(torch.cat([X_skip, X], dim=1))"
   ]
  },
  {
   "cell_type": "code",
   "execution_count": null,
   "metadata": {},
   "outputs": [],
   "source": [
    "class UNet(nn.Module):\n",
    "    def __init__(self, in_channels, num_classes):\n",
    "        super(UNet, self).__init__()\n",
    "        n = 2\n",
    "        self._input = UNetConv(in_channels, n)\n",
    "        self._down1 = UNetDown(n, 2*n)\n",
    "        self._down2 = UNetDown(2*n, 4*n)\n",
    "        self._down3 = UNetDown(4*n, 8*n)\n",
    "        self._down4 = UNetDown(8*n, 16*n)\n",
    "        self._up1 = UNetUp(16*n, 8*n, 8*n)\n",
    "        self._up2 = UNetUp(8*n, 4*n, 4*n)\n",
    "        self._up3 = UNetUp(4*n, 2*n, 2*n)\n",
    "        self._up4 = UNetUp(2*n, n, n)\n",
    "        self._output = nn.Conv1d(n, num_classes, kernel_size=1)\n",
    "        \n",
    "    def forward(self, X):\n",
    "        x1 = self._input(X)\n",
    "        x2 = self._down1(x1)\n",
    "        x3 = self._down2(x2)\n",
    "        x4 = self._down3(x3)\n",
    "        x = self._down4(x4)\n",
    "        x = self._up1(x4, x)\n",
    "        x = self._up2(x3, x)\n",
    "        x = self._up3(x2, x)\n",
    "        x = self._up4(x1, x)\n",
    "        return self._output(x)"
   ]
  },
  {
   "cell_type": "markdown",
   "metadata": {},
   "source": [
    "### Обучение"
   ]
  },
  {
   "cell_type": "code",
   "execution_count": null,
   "metadata": {},
   "outputs": [],
   "source": [
    "model = UNet(1, 2)\n",
    "optimizer = torch.optim.Adam(model.parameters())"
   ]
  },
  {
   "cell_type": "code",
   "execution_count": null,
   "metadata": {},
   "outputs": [],
   "source": [
    "print(model)"
   ]
  },
  {
   "cell_type": "code",
   "execution_count": null,
   "metadata": {},
   "outputs": [],
   "source": [
    "def dice_coef(mask1, mask2):\n",
    "    intersect = np.sum(mask1*mask2)\n",
    "    fsum = np.sum(mask1)\n",
    "    ssum = np.sum(mask2)\n",
    "    dice = (2 * intersect ) / (fsum + ssum)\n",
    "    dice = np.mean(dice)\n",
    "    dice = round(dice, 3) # for easy reading\n",
    "    return dice   "
   ]
  },
  {
   "cell_type": "code",
   "execution_count": null,
   "metadata": {},
   "outputs": [],
   "source": [
    "plt.rcParams['axes.linewidth'] = 5\n",
    "plt.rcParams['xtick.major.width'] = 5\n",
    "plt.rcParams['ytick.major.width'] = 5\n",
    "plt.rcParams['xtick.major.size'] = 15\n",
    "plt.rcParams['ytick.major.size'] = 15\n",
    "def plot_signal_with_mask(signal, delineation, delineation2, i, k):\n",
    "    fig, axs = plt.subplots(figsize=(18, 5), dpi=300)\n",
    "    axs.spines[['right', 'top']].set_visible(False)\n",
    "    #plt.title(\"Signal with mask\")\n",
    "    axs.xaxis.set_tick_params(labelsize=25)\n",
    "    axs.yaxis.set_tick_params(labelsize=25)\n",
    "\n",
    "    plt.xlabel(\"Time (sec)\", fontsize=25)\n",
    "    plt.ylabel(\"Amplitude (μV)\", fontsize=25)\n",
    "    x_axis_values = np.linspace(0, len(signal) / sample_rate, len(signal))\n",
    "    plt.plot(x_axis_values, signal, linewidth=4, color=\"black\")\n",
    "    \n",
    "    # for begin, end in delineation['p']:\n",
    "    #     begin /= sample_rate\n",
    "    #     end /= sample_rate\n",
    "    #     plt.axvspan(begin, end, facecolor='red', alpha=0.5)\n",
    "\n",
    "    #for begin, end in delineation2['p']:\n",
    "        # begin /= sample_rate\n",
    "        # end /= sample_rate\n",
    "        # plt.axvspan(begin, end, facecolor='green', alpha=0.5)\n",
    "    plt.savefig(f\"1_{k}_empty.png\", bbox_inches='tight')\n"
   ]
  },
  {
   "cell_type": "code",
   "execution_count": null,
   "metadata": {},
   "outputs": [],
   "source": [
    "# dice_coefs=[]\n",
    "# for i in range(5):\n",
    "i=2\n",
    "X_train, X_test, Y_train, Y_test = get_cross_val(i)\n",
    "\n",
    "train_loader = get_loader(X_train, Y_train)\n",
    "val_loader = get_loader(X_test, Y_test)\n",
    "\n",
    "model = UNet(1, 2)\n",
    "optimizer = torch.optim.Adam(model.parameters())\n",
    "fit(model, train_loader, val_loader, optimizer, get_loss, num_epochs=70)\n",
    "for k in range(len(X_test)):\n",
    "    aa = Y_test[k]\n",
    "    plot_signal_with_mask(X_test[k], mask_to_delineation(aa), mask_to_delineation(get_mask(X_test[k])), i, k)\n",
    "for j in range(len(Y_test)):\n",
    "    mask = get_mask(X_test[j])\n",
    "    dice_coefs.append(dice_coef(Y_test[j], mask))"
   ]
  },
  {
   "cell_type": "code",
   "execution_count": null,
   "metadata": {},
   "outputs": [],
   "source": [
    "#X_train, X_test, Y_train, Y_test = get_cross_val()\n",
    "plot_signal_with_mask(X[1][37], [], Y_test, i, 37)"
   ]
  },
  {
   "cell_type": "code",
   "execution_count": null,
   "metadata": {},
   "outputs": [],
   "source": [
    "for sig in X_train:\n",
    "    for sig2 in X_test:\n",
    "        cnt=[]\n",
    "        for i in range(5000):\n",
    "            cnt.append(sig[i]-sig2[i])\n",
    "        if (max(cnt==min(cnt)) and max(cnt)==0):\n",
    "            print(0)"
   ]
  },
  {
   "cell_type": "code",
   "execution_count": null,
   "metadata": {},
   "outputs": [],
   "source": [
    "len(dice_coefs)"
   ]
  },
  {
   "cell_type": "code",
   "execution_count": null,
   "metadata": {},
   "outputs": [],
   "source": [
    "len(X_new)"
   ]
  },
  {
   "cell_type": "code",
   "execution_count": null,
   "metadata": {},
   "outputs": [],
   "source": [
    "len(X_new_2)"
   ]
  },
  {
   "cell_type": "code",
   "execution_count": null,
   "metadata": {},
   "outputs": [],
   "source": [
    "len(X_new_3)"
   ]
  },
  {
   "cell_type": "code",
   "execution_count": null,
   "metadata": {},
   "outputs": [],
   "source": [
    "new_dice_coefs=[]\n",
    "for i in range(len(dice_coefs)):\n",
    "    if i not in range(54+59, 54+59+60):\n",
    "        new_dice_coefs.append(dice_coefs[i])"
   ]
  },
  {
   "cell_type": "code",
   "execution_count": null,
   "metadata": {},
   "outputs": [],
   "source": [
    "np.mean(new_dice_coefs)"
   ]
  },
  {
   "cell_type": "code",
   "execution_count": null,
   "metadata": {},
   "outputs": [],
   "source": [
    "segmentation_model = model"
   ]
  },
  {
   "cell_type": "code",
   "execution_count": null,
   "metadata": {},
   "outputs": [],
   "source": [
    "np.mean(dice_coefs)"
   ]
  },
  {
   "cell_type": "code",
   "execution_count": null,
   "metadata": {},
   "outputs": [],
   "source": [
    "np.save('dice_coefs.npy', dice_coefs)"
   ]
  },
  {
   "cell_type": "code",
   "execution_count": null,
   "metadata": {},
   "outputs": [],
   "source": [
    "plt.hist(dice_coefs)"
   ]
  },
  {
   "cell_type": "code",
   "execution_count": null,
   "metadata": {},
   "outputs": [],
   "source": [
    "import scipy"
   ]
  },
  {
   "cell_type": "code",
   "execution_count": null,
   "metadata": {},
   "outputs": [],
   "source": [
    "len(dice_coefs)"
   ]
  },
  {
   "cell_type": "code",
   "execution_count": null,
   "metadata": {},
   "outputs": [],
   "source": [
    "scipy.stats.ttest_1samp(dice_coefs, popmean=0.5)"
   ]
  },
  {
   "cell_type": "code",
   "execution_count": null,
   "metadata": {},
   "outputs": [],
   "source": [
    "len(X_train)+len(X_test)"
   ]
  },
  {
   "cell_type": "markdown",
   "metadata": {},
   "source": [
    "### Проверяем модель"
   ]
  },
  {
   "cell_type": "code",
   "execution_count": null,
   "metadata": {},
   "outputs": [],
   "source": [
    "model = model.eval()"
   ]
  },
  {
   "cell_type": "code",
   "execution_count": null,
   "metadata": {},
   "outputs": [],
   "source": [
    "# получение маски по сигналу\n",
    "def get_mask(signal):\n",
    "    signal = np.expand_dims(signal, axis=(0, 1))\n",
    "    signal = torch.FloatTensor(signal)\n",
    "    mask = model(signal)[0]\n",
    "    mask = mask.max(axis=0)[1]\n",
    "    mask[:500] = 0\n",
    "    mask[-500:] = 0\n",
    "    return mask.data.numpy()"
   ]
  },
  {
   "cell_type": "code",
   "execution_count": null,
   "metadata": {},
   "outputs": [],
   "source": [
    "len(Y_test)"
   ]
  },
  {
   "cell_type": "code",
   "execution_count": null,
   "metadata": {},
   "outputs": [],
   "source": [
    "X_new_5 = np.load(\"X_new_5.npy\")\n",
    "Y_new_5 = np.load(\"Y_new_5.npy\")"
   ]
  },
  {
   "cell_type": "code",
   "execution_count": null,
   "metadata": {},
   "outputs": [],
   "source": [
    "Y_test"
   ]
  },
  {
   "cell_type": "code",
   "execution_count": null,
   "metadata": {},
   "outputs": [],
   "source": [
    "for i in range(len(X_test)):\n",
    "    aa = Y_test[i]\n",
    "    plot_signal_with_mask(X_test[i], mask_to_delineation(aa), mask_to_delineation(get_mask(X_test[i])), i)\n",
    "    #plot_signal_with_mask(X_test[i], mask_to_delineation(get_mask(X_test[i])))"
   ]
  },
  {
   "cell_type": "code",
   "execution_count": null,
   "metadata": {},
   "outputs": [],
   "source": []
  },
  {
   "cell_type": "code",
   "execution_count": null,
   "metadata": {
    "scrolled": true
   },
   "outputs": [],
   "source": [
    "for i in range(len(Y_train)):\n",
    "    aa = Y_train[i]\n",
    "    plot_signal_with_mask(X_train[i], mask_to_delineation(aa), mask_to_delineation(get_mask(X_train[i])))\n",
    "    #plot_signal_with_mask(X_train[i], mask_to_delineation(get_mask(X_train[i])))"
   ]
  },
  {
   "cell_type": "code",
   "execution_count": null,
   "metadata": {},
   "outputs": [],
   "source": [
    "len(X)"
   ]
  },
  {
   "cell_type": "code",
   "execution_count": null,
   "metadata": {},
   "outputs": [],
   "source": [
    "signals_test[12]"
   ]
  },
  {
   "cell_type": "code",
   "execution_count": null,
   "metadata": {},
   "outputs": [],
   "source": [
    "ad = []\n",
    "for num in delins_test[i]:\n",
    "    ad.append(int(num))"
   ]
  },
  {
   "cell_type": "code",
   "execution_count": null,
   "metadata": {},
   "outputs": [],
   "source": [
    "mask_to_delineation(np.array(ad))"
   ]
  },
  {
   "cell_type": "code",
   "execution_count": null,
   "metadata": {},
   "outputs": [],
   "source": [
    "def plot_test_sample(index):\n",
    "    signal = signals_test[index]\n",
    "    true_mask = delins_test[index]\n",
    "\n",
    "    mask = get_mask(signal)\n",
    "    #plt.plot(true_mask)\n",
    "    plot_signal_with_mask(signal, mask_to_delineation(mask))\n",
    "    plot_signal_with_mask(signal, mask_to_delineation(true_mask))"
   ]
  },
  {
   "cell_type": "code",
   "execution_count": null,
   "metadata": {
    "scrolled": true
   },
   "outputs": [],
   "source": [
    "plot_test_sample(12)"
   ]
  },
  {
   "cell_type": "code",
   "execution_count": null,
   "metadata": {
    "scrolled": true
   },
   "outputs": [],
   "source": [
    "plot_test_sample(20)"
   ]
  },
  {
   "cell_type": "code",
   "execution_count": null,
   "metadata": {
    "scrolled": true
   },
   "outputs": [],
   "source": [
    "plot_test_sample(25)"
   ]
  },
  {
   "cell_type": "markdown",
   "metadata": {},
   "source": [
    "### Рецептивное поле (receptive field)"
   ]
  },
  {
   "cell_type": "markdown",
   "metadata": {},
   "source": [
    "![img](https://raw.githubusercontent.com/MoskalenkoViktor/dl_ecg/master/receptive_field.png)\n",
    "[ https://medium.com/mlreview/a-guide-to-receptive-field-arithmetic-for-convolutional-neural-networks-e0f514068807 ]"
   ]
  },
  {
   "cell_type": "code",
   "execution_count": null,
   "metadata": {},
   "outputs": [],
   "source": [
    "print(f\"Число параметров модели: {sum(p.numel() for p in model.parameters())}\")"
   ]
  },
  {
   "cell_type": "code",
   "execution_count": null,
   "metadata": {},
   "outputs": [],
   "source": [
    "# КОД: узнать рецептивное поле"
   ]
  },
  {
   "cell_type": "markdown",
   "metadata": {},
   "source": [
    "## Сохранение моделей"
   ]
  },
  {
   "cell_type": "code",
   "execution_count": null,
   "metadata": {},
   "outputs": [],
   "source": [
    "arrhythmia_model.eval()\n",
    "torch.onnx.export(arrhythmia_model, torch.randn(1, 279), \"arrhythmia_model.onnx\")"
   ]
  },
  {
   "cell_type": "code",
   "execution_count": null,
   "metadata": {},
   "outputs": [],
   "source": [
    "if COLAB:\n",
    "    from google.colab import files\n",
    "    files.download(\"arrhythmia_model.onnx\")"
   ]
  },
  {
   "cell_type": "markdown",
   "metadata": {},
   "source": [
    "## Диагноз по сигналу"
   ]
  },
  {
   "cell_type": "code",
   "execution_count": null,
   "metadata": {},
   "outputs": [],
   "source": [
    "# КОД\n",
    "model = None\n",
    "train_loader = None\n",
    "val_loader = None\n",
    "optimizer = None\n",
    "loss_diagnosis = None"
   ]
  },
  {
   "cell_type": "code",
   "execution_count": null,
   "metadata": {},
   "outputs": [],
   "source": [
    "#fit(model, train_loader, val_loader, optimizer, loss_diagnosis)"
   ]
  },
  {
   "cell_type": "markdown",
   "metadata": {},
   "source": [
    "## Диагноз по сигналу + сегментации"
   ]
  },
  {
   "cell_type": "code",
   "execution_count": null,
   "metadata": {},
   "outputs": [],
   "source": [
    "# КОД\n",
    "model = None\n",
    "train_loader = None\n",
    "val_loader = None\n",
    "optimizer = None\n",
    "loss_diagnosis = None"
   ]
  },
  {
   "cell_type": "code",
   "execution_count": null,
   "metadata": {},
   "outputs": [],
   "source": [
    "#fit(model, train_loader, val_loader, optimizer, loss_diagnosis)"
   ]
  },
  {
   "cell_type": "code",
   "execution_count": null,
   "metadata": {},
   "outputs": [],
   "source": [
    "torch.save(segmentation_model.state_dict(), \"good_model.pt\")"
   ]
  },
  {
   "cell_type": "code",
   "execution_count": null,
   "metadata": {},
   "outputs": [],
   "source": [
    "torch.save(segmentation_model.state_dict(), \"good_model_020824.pt\")"
   ]
  },
  {
   "cell_type": "code",
   "execution_count": null,
   "metadata": {},
   "outputs": [],
   "source": []
  }
 ],
 "metadata": {
  "kernelspec": {
   "display_name": "Python 3 (ipykernel)",
   "language": "python",
   "name": "python3"
  },
  "language_info": {
   "codemirror_mode": {
    "name": "ipython",
    "version": 3
   },
   "file_extension": ".py",
   "mimetype": "text/x-python",
   "name": "python",
   "nbconvert_exporter": "python",
   "pygments_lexer": "ipython3",
   "version": "3.10.11"
  }
 },
 "nbformat": 4,
 "nbformat_minor": 4
}
