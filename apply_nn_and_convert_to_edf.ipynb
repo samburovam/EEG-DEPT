{
 "cells": [
  {
   "cell_type": "code",
   "execution_count": null,
   "id": "d653da5f-011b-452b-9ee5-57af3eea97f4",
   "metadata": {},
   "outputs": [],
   "source": [
    "path = \"5_marked.edf\""
   ]
  },
  {
   "cell_type": "code",
   "execution_count": null,
   "id": "bae5e68c-d3ed-4da8-b496-a02d568b2bde",
   "metadata": {},
   "outputs": [],
   "source": [
    "import numpy as np\n",
    "import matplotlib.pyplot as plt\n",
    "import pyedflib\n",
    "import locale, pprint, time, calendar\n",
    "import torch\n",
    "import torch.nn as nn\n",
    "import torch.nn.functional as F\n",
    "import pickle "
   ]
  },
  {
   "cell_type": "markdown",
   "id": "3408eda6-cea8-441d-a9f6-d17c4179063c",
   "metadata": {},
   "source": [
    "читаем edf файл"
   ]
  },
  {
   "cell_type": "code",
   "execution_count": null,
   "id": "e4d501a6-a720-417e-8d5e-2713a9a09bde",
   "metadata": {},
   "outputs": [],
   "source": [
    "import pyedflib\n",
    "edf_file_path = path\n",
    "edf_file = pyedflib.EdfReader(edf_file_path)\n",
    "\n",
    "\n",
    "num_channels = edf_file.signals_in_file\n",
    "channel_labels = edf_file.getSignalLabels()\n",
    "sample_rate = edf_file.getSampleFrequency(0)\n",
    "\n",
    "n_annotations = edf_file.annotations_in_file\n",
    "annotations=[]\n",
    "epi={}\n",
    "for i in range(num_channels):\n",
    "    epi[channel_labels[i]] = edf_file.readSignal(i)\n",
    "    \n",
    "annotation = edf_file.read_annotation()\n",
    "edf_file.close()"
   ]
  },
  {
   "cell_type": "code",
   "execution_count": null,
   "id": "27d293fe-3736-44de-91ee-23e5ca68db05",
   "metadata": {},
   "outputs": [],
   "source": [
    "sample_rate = edf_file.getSampleFrequency(19)\n",
    "sample_rate"
   ]
  },
  {
   "cell_type": "code",
   "execution_count": null,
   "id": "bb4f8e96-6d2e-41de-b427-281c4ac43659",
   "metadata": {},
   "outputs": [],
   "source": [
    "def get_sec(time):\n",
    "    h, m, s = time.split(':')\n",
    "    return int(h)*3600+int(m)*60+int(s)"
   ]
  },
  {
   "cell_type": "code",
   "execution_count": null,
   "id": "dd3ee09d-305f-4069-9c23-a4ce6676ac3c",
   "metadata": {},
   "outputs": [],
   "source": [
    "fig, axs = plt.subplots(23, 1, figsize=(30,40), dpi=400)\n",
    "keys_epi=list(epi.keys())\n",
    "example=[]\n",
    "start = int(get_sec('0:10:00')*sample_rate)\n",
    "finish = int(get_sec('0:20:20')*sample_rate)\n",
    "for i in range(len(keys_epi)):\n",
    "    axs[i].plot(epi[keys_epi[i]][start:finish])\n",
    "    axs[i].set_title(f'{channel_labels[i]}')\n",
    "    example.append(epi[keys_epi[i]][start:finish])"
   ]
  },
  {
   "cell_type": "markdown",
   "id": "dcdbc704-c747-4724-9a23-0b4a43b99990",
   "metadata": {},
   "source": [
    "Определяем структуру нейросети"
   ]
  },
  {
   "cell_type": "code",
   "execution_count": null,
   "id": "62cc1216-5504-4d3e-8a0d-72a4851159df",
   "metadata": {},
   "outputs": [],
   "source": [
    "class UNetConv(nn.Module):\n",
    "    def __init__(self, in_channels, out_channels):\n",
    "        super(UNetConv, self).__init__()\n",
    "        self._model = nn.Sequential(\n",
    "            nn.Conv1d(in_channels, out_channels, kernel_size=9, padding=4),\n",
    "            nn.BatchNorm1d(out_channels),\n",
    "            nn.ReLU(),\n",
    "            nn.Conv1d(out_channels, out_channels, kernel_size=9, padding=4),\n",
    "            nn.BatchNorm1d(out_channels),\n",
    "            nn.ReLU()\n",
    "        )\n",
    "    \n",
    "    def forward(self, X):\n",
    "        return self._model(X)\n",
    "    \n",
    "\n",
    "class UNetDown(nn.Module):\n",
    "    def __init__(self, in_channels, out_channels):\n",
    "        super(UNetDown, self).__init__()\n",
    "        self._model = nn.Sequential(\n",
    "            nn.MaxPool1d(2),\n",
    "            UNetConv(in_channels, out_channels)\n",
    "        )\n",
    "    \n",
    "    def forward(self, X):\n",
    "        return self._model(X)\n",
    "    \n",
    "\n",
    "class UNetUp(nn.Module):\n",
    "    def __init__(self, in_channels, in_channels_skip, out_channels):\n",
    "        super(UNetUp, self).__init__()\n",
    "        self._up = nn.ConvTranspose1d(in_channels, in_channels, kernel_size=8, stride=2, padding=3)\n",
    "        self._model = UNetConv(in_channels + in_channels_skip, out_channels)\n",
    "    \n",
    "    def forward(self, X_skip, X):\n",
    "        X = self._up(X)  \n",
    "        diff = X_skip.size()[2] - X.size()[2]\n",
    "        X = F.pad(X, (diff // 2, diff - diff // 2))  \n",
    "        return self._model(torch.cat([X_skip, X], dim=1))"
   ]
  },
  {
   "cell_type": "code",
   "execution_count": null,
   "id": "44a86c77-a06c-49c1-a046-2d0a999aae9c",
   "metadata": {},
   "outputs": [],
   "source": [
    "class UNet(nn.Module):\n",
    "    def __init__(self, in_channels, num_classes):\n",
    "        super(UNet, self).__init__()\n",
    "        n = 2\n",
    "        self._input = UNetConv(in_channels, n)\n",
    "        self._down1 = UNetDown(n, 2*n)\n",
    "        self._down2 = UNetDown(2*n, 4*n)\n",
    "        self._down3 = UNetDown(4*n, 8*n)\n",
    "        self._down4 = UNetDown(8*n, 16*n)\n",
    "        self._up1 = UNetUp(16*n, 8*n, 8*n)\n",
    "        self._up2 = UNetUp(8*n, 4*n, 4*n)\n",
    "        self._up3 = UNetUp(4*n, 2*n, 2*n)\n",
    "        self._up4 = UNetUp(2*n, n, n)\n",
    "        self._output = nn.Conv1d(n, num_classes, kernel_size=1)\n",
    "        \n",
    "    def forward(self, X):\n",
    "        x1 = self._input(X)\n",
    "        x2 = self._down1(x1)\n",
    "        x3 = self._down2(x2)\n",
    "        x4 = self._down3(x3)\n",
    "        x = self._down4(x4)\n",
    "        x = self._up1(x4, x)\n",
    "        x = self._up2(x3, x)\n",
    "        x = self._up3(x2, x)\n",
    "        x = self._up4(x1, x)\n",
    "        return self._output(x)"
   ]
  },
  {
   "cell_type": "code",
   "execution_count": null,
   "id": "2af6cc07-0931-4a03-af8b-ee6301ddb937",
   "metadata": {},
   "outputs": [],
   "source": [
    "model = UNet(1, 2)"
   ]
  },
  {
   "cell_type": "markdown",
   "id": "af9144e0-6f4b-4655-90f3-74af14230a8a",
   "metadata": {},
   "source": [
    "Загружаем веса"
   ]
  },
  {
   "cell_type": "code",
   "execution_count": null,
   "id": "3b4a84c2-49ba-4f38-893e-fc79bfa37972",
   "metadata": {},
   "outputs": [],
   "source": [
    "model.load_state_dict(torch.load(\"good_model_020824.pt\"))"
   ]
  },
  {
   "cell_type": "markdown",
   "id": "08d78743-9ea6-48cc-9e4c-fad3fde19520",
   "metadata": {},
   "source": [
    "Вспомогательные функции для маски"
   ]
  },
  {
   "cell_type": "code",
   "execution_count": null,
   "id": "e22c37ba-edc5-4c28-92b9-7709b6ead935",
   "metadata": {},
   "outputs": [],
   "source": [
    "v_to_del = {1:'qrs'}\n",
    "\n",
    "def remove_small(signal):\n",
    "    max_dist = 50\n",
    "    last_zero = 0\n",
    "    for i in range(len(signal)):\n",
    "        if signal[i] == 0:\n",
    "            if i - last_zero < max_dist:\n",
    "                signal[last_zero:i] = 0\n",
    "            last_zero = i\n",
    "\n",
    "def merge_small(signal):\n",
    "    max_dist = 50\n",
    "    lasts = np.full(signal.max() + 1, -(max_dist+1))\n",
    "    for i in range(len(signal)):\n",
    "        m = signal[i]\n",
    "        if i - lasts[m] < max_dist and m > 0:\n",
    "            signal[lasts[m]:i] = m\n",
    "        lasts[m] = i\n",
    "\n",
    "def mask_to_delineation(mask):\n",
    "    merge_small(mask)\n",
    "    remove_small(mask)\n",
    "    delineation = {'qrs':[]}\n",
    "    i = 0\n",
    "    mask_length = len(mask)\n",
    "    while i < mask_length:\n",
    "        v = mask[i]\n",
    "        if v > 0:\n",
    "            delineation[v_to_del[v]].append([i, 0])\n",
    "            while i < mask_length and mask[i] == v:\n",
    "                delineation[v_to_del[v]][-1][1] = i\n",
    "                i += 1\n",
    "            t = delineation[v_to_del[v]][-1]\n",
    "        i += 1\n",
    "    return delineation"
   ]
  },
  {
   "cell_type": "code",
   "execution_count": null,
   "id": "107d4651-5c5c-4000-a3e4-482d2a5da7b7",
   "metadata": {},
   "outputs": [],
   "source": [
    "wave_type_to_color = {\n",
    "    \"qrs\": \"red\"\n",
    "}\n",
    "\n",
    "def plot_signal_with_mask(signal, mask, i):\n",
    "    begs = []\n",
    "    times = []\n",
    "    plt.figure(figsize=(36, 10), dpi=300)\n",
    "    plt.title(f\"{keys_epi[i]}\")\n",
    "    plt.xlabel(\"Время (сек)\")\n",
    "    plt.ylabel(\"Амплитуда (мВ)\")\n",
    "    x_axis_values = np.linspace(0, len(signal) / sample_rate, len(signal))\n",
    "    plt.plot(x_axis_values, signal, linewidth=2, color=\"black\")\n",
    "    \n",
    "    delineation = mask_to_delineation(mask)\n",
    "    for wave_type in [\"qrs\"]:\n",
    "        color = wave_type_to_color[wave_type]\n",
    "        for begin, end in delineation[wave_type]:\n",
    "            print(begin, end)\n",
    "            begs.append(begin)\n",
    "            times.append(end - begin)\n",
    "            begin /= sample_rate\n",
    "            end /= sample_rate\n",
    "            plt.axvspan(begin, end, facecolor=color, alpha=0.5)\n",
    "    # plt.savefig(f\"{i}.pdf\")\n",
    "    return begs, times"
   ]
  },
  {
   "cell_type": "code",
   "execution_count": null,
   "id": "1385a7c5-a5a8-48fd-a6dc-27d706d7a939",
   "metadata": {},
   "outputs": [],
   "source": [
    "def get_mask(signal):\n",
    "    signal = np.expand_dims(signal, axis=(0, 1))\n",
    "    signal = torch.FloatTensor(signal)\n",
    "    mask = model(signal)[0]\n",
    "    mask = mask.max(axis=0)[1]\n",
    "    mask[:500] = 0\n",
    "    mask[-500:] = 0\n",
    "    return mask.data.numpy()"
   ]
  },
  {
   "cell_type": "code",
   "execution_count": null,
   "id": "f4cac36e-4c1f-4acc-adff-891919e055bc",
   "metadata": {},
   "outputs": [],
   "source": [
    "def plot_test_sample(signal, i):\n",
    "    # signal = signals_test[index]\n",
    "    # true_mask = masks_test[index]\n",
    "\n",
    "    mask = get_mask(signal)\n",
    "    beg, end = plot_signal_with_mask(signal, mask, i)\n",
    "    return beg, end\n",
    "    plot_signal_with_mask(signal, true_mask)"
   ]
  },
  {
   "cell_type": "code",
   "execution_count": null,
   "id": "1c698c24-3056-4554-bfeb-b31a59b9aec6",
   "metadata": {},
   "outputs": [],
   "source": [
    "len(example)"
   ]
  },
  {
   "cell_type": "code",
   "execution_count": null,
   "id": "92308947-15c1-423f-b583-01ed47df4065",
   "metadata": {},
   "outputs": [],
   "source": [
    "channel_labels[10]"
   ]
  },
  {
   "cell_type": "code",
   "execution_count": null,
   "id": "7e26976e-b266-4857-a7f5-3ade06ce9276",
   "metadata": {},
   "outputs": [],
   "source": [
    "plot_test_sample(example[10][5000:10000], 10)"
   ]
  },
  {
   "cell_type": "markdown",
   "id": "69ee586b-ee65-4682-a052-add6f4ded28b",
   "metadata": {},
   "source": [
    "Размечаем нужный участок"
   ]
  },
  {
   "cell_type": "code",
   "execution_count": null,
   "id": "148a3be4-5caf-4abb-8a9c-aef6d054c8f9",
   "metadata": {},
   "outputs": [],
   "source": [
    "annots_begs={}\n",
    "annots_times={}"
   ]
  },
  {
   "cell_type": "code",
   "execution_count": null,
   "id": "4a58b543-e42b-4907-a053-59b78fbe222f",
   "metadata": {
    "scrolled": true
   },
   "outputs": [],
   "source": [
    "beg, time = plot_test_sample(example[10], 10)\n",
    "annots_begs[10] = beg\n",
    "annots_times[10] = time"
   ]
  },
  {
   "cell_type": "code",
   "execution_count": null,
   "id": "c8ca3a3a-fc67-44d3-8ba6-536ee00ef55b",
   "metadata": {},
   "outputs": [],
   "source": [
    "for j in range(len(annots_begs[10])):\n",
    "    annots_begs[10][j] = round((annots_begs[10][j]+start) / int(sample_rate))\n",
    "    annots_times[10][j] /= int(sample_rate)"
   ]
  },
  {
   "cell_type": "code",
   "execution_count": null,
   "id": "045f5eb6-8684-4262-8d64-1c3dd97d9d03",
   "metadata": {
    "scrolled": true
   },
   "outputs": [],
   "source": [
    "annots_begs[10]"
   ]
  },
  {
   "cell_type": "code",
   "execution_count": null,
   "id": "05c5c8b8-e029-41d7-b4e1-cd6d1d15dfdc",
   "metadata": {},
   "outputs": [],
   "source": [
    "len(annots_begs[10])"
   ]
  },
  {
   "cell_type": "code",
   "execution_count": null,
   "id": "91c2c72b-d728-4231-8928-2b135f70e4b7",
   "metadata": {
    "scrolled": true
   },
   "outputs": [],
   "source": [
    "annots_times[10]"
   ]
  },
  {
   "cell_type": "code",
   "execution_count": null,
   "id": "de24a249-4576-496e-8ae8-034f9859bf1a",
   "metadata": {},
   "outputs": [],
   "source": [
    "labels={}\n",
    "labels[10] = []\n",
    "for j in range(len(annots_begs[10])):\n",
    "    labels[10].append(f'{keys_epi[10]}')"
   ]
  },
  {
   "cell_type": "code",
   "execution_count": null,
   "id": "3a94dcf0-b90b-4259-bd62-55cd8ddb4974",
   "metadata": {},
   "outputs": [],
   "source": [
    "annot_begs = annots_begs[10]\n",
    "annot_durs = annots_times[10]\n",
    "annot_labels = labels[10]"
   ]
  },
  {
   "cell_type": "markdown",
   "id": "85f8a6c5-19a5-43e7-ad25-b9502e08a2c8",
   "metadata": {},
   "source": [
    "формируем аннотацию"
   ]
  },
  {
   "cell_type": "code",
   "execution_count": null,
   "id": "6717296a-0443-4a04-a727-1d3c45c5b15c",
   "metadata": {},
   "outputs": [],
   "source": [
    "annotation = [annot_begs, annot_durs, annot_labels]"
   ]
  },
  {
   "cell_type": "code",
   "execution_count": null,
   "id": "dc1a1ae3-fdcb-4728-828a-93677c6fd6cd",
   "metadata": {
    "scrolled": true
   },
   "outputs": [],
   "source": [
    "annotation"
   ]
  },
  {
   "cell_type": "markdown",
   "id": "9a4431e2-80e4-4bda-9f19-25baef9b73b1",
   "metadata": {},
   "source": [
    "пишем новую аннотацию в файл"
   ]
  },
  {
   "cell_type": "code",
   "execution_count": null,
   "id": "2cc7db37-7203-4cae-a03c-e18608a6136e",
   "metadata": {},
   "outputs": [],
   "source": [
    "import mne"
   ]
  },
  {
   "cell_type": "code",
   "execution_count": null,
   "id": "b957114a-9015-4c94-9923-401e1109c579",
   "metadata": {},
   "outputs": [],
   "source": [
    "data = mne.io.read_raw_edf(path, encoding='latin1')"
   ]
  },
  {
   "cell_type": "code",
   "execution_count": null,
   "id": "0b4877ad-3a65-4861-bb62-eb4ef90d5b35",
   "metadata": {},
   "outputs": [],
   "source": [
    "annotations = mne.Annotations(np.array(annotation[0]), np.array(annotation[1]), np.array(annotation[2])) # тот же формат аргументов"
   ]
  },
  {
   "cell_type": "code",
   "execution_count": null,
   "id": "a6daff8c-bea6-4123-8bdb-4e9832263891",
   "metadata": {},
   "outputs": [],
   "source": [
    "data.set_annotations(annotations)\n",
    "data.annotations"
   ]
  },
  {
   "cell_type": "code",
   "execution_count": null,
   "id": "66f63e17-b2d7-4466-acb6-f6c0faed6f1d",
   "metadata": {},
   "outputs": [],
   "source": [
    "data.export(\"nn_\"+path, overwrite=True)"
   ]
  }
 ],
 "metadata": {
  "kernelspec": {
   "display_name": "Python 3 (ipykernel)",
   "language": "python",
   "name": "python3"
  },
  "language_info": {
   "codemirror_mode": {
    "name": "ipython",
    "version": 3
   },
   "file_extension": ".py",
   "mimetype": "text/x-python",
   "name": "python",
   "nbconvert_exporter": "python",
   "pygments_lexer": "ipython3",
   "version": "3.10.11"
  }
 },
 "nbformat": 4,
 "nbformat_minor": 5
}
